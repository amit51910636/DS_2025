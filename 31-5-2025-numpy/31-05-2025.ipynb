{
 "cells": [
  {
   "cell_type": "markdown",
   "id": "8e67c793",
   "metadata": {},
   "source": [
    "# np.zeros()"
   ]
  },
  {
   "cell_type": "code",
   "execution_count": 1,
   "id": "9c3e3add",
   "metadata": {},
   "outputs": [],
   "source": [
    "### np.zeros()\n",
    "\n",
    "import numpy as np"
   ]
  },
  {
   "cell_type": "code",
   "execution_count": 2,
   "id": "b3a303ac",
   "metadata": {},
   "outputs": [
    {
     "data": {
      "text/plain": [
       "array([0., 0., 0., 0., 0.])"
      ]
     },
     "execution_count": 2,
     "metadata": {},
     "output_type": "execute_result"
    }
   ],
   "source": [
    "np.zeros(5)"
   ]
  },
  {
   "cell_type": "code",
   "execution_count": 3,
   "id": "1ba023c6",
   "metadata": {},
   "outputs": [
    {
     "data": {
      "text/plain": [
       "array([[0., 0., 0., 0., 0.],\n",
       "       [0., 0., 0., 0., 0.],\n",
       "       [0., 0., 0., 0., 0.],\n",
       "       [0., 0., 0., 0., 0.],\n",
       "       [0., 0., 0., 0., 0.]])"
      ]
     },
     "execution_count": 3,
     "metadata": {},
     "output_type": "execute_result"
    }
   ],
   "source": [
    "np.zeros((5, 5))"
   ]
  },
  {
   "cell_type": "code",
   "execution_count": 4,
   "id": "0e388ba6",
   "metadata": {},
   "outputs": [
    {
     "data": {
      "text/plain": [
       "(5, 5)"
      ]
     },
     "execution_count": 4,
     "metadata": {},
     "output_type": "execute_result"
    }
   ],
   "source": [
    "np.zeros((5, 5)).shape"
   ]
  },
  {
   "cell_type": "code",
   "execution_count": 5,
   "id": "9e42d3c7",
   "metadata": {},
   "outputs": [
    {
     "data": {
      "text/plain": [
       "2"
      ]
     },
     "execution_count": 5,
     "metadata": {},
     "output_type": "execute_result"
    }
   ],
   "source": [
    "np.zeros((5, 5)).ndim"
   ]
  },
  {
   "cell_type": "markdown",
   "id": "77612b1e",
   "metadata": {},
   "source": [
    "# np.ones()"
   ]
  },
  {
   "cell_type": "code",
   "execution_count": 6,
   "id": "b8e229fd",
   "metadata": {},
   "outputs": [
    {
     "data": {
      "text/plain": [
       "array([[1., 1., 1., 1., 1.],\n",
       "       [1., 1., 1., 1., 1.],\n",
       "       [1., 1., 1., 1., 1.],\n",
       "       [1., 1., 1., 1., 1.],\n",
       "       [1., 1., 1., 1., 1.]])"
      ]
     },
     "execution_count": 6,
     "metadata": {},
     "output_type": "execute_result"
    }
   ],
   "source": [
    "np.ones((5,5))"
   ]
  },
  {
   "cell_type": "code",
   "execution_count": 7,
   "id": "21331fb1",
   "metadata": {},
   "outputs": [
    {
     "data": {
      "text/plain": [
       "array([[1, 1, 1, 1, 1],\n",
       "       [1, 1, 1, 1, 1],\n",
       "       [1, 1, 1, 1, 1],\n",
       "       [1, 1, 1, 1, 1],\n",
       "       [1, 1, 1, 1, 1]], dtype=int8)"
      ]
     },
     "execution_count": 7,
     "metadata": {},
     "output_type": "execute_result"
    }
   ],
   "source": [
    "np.ones((5,5), dtype=np.int8)"
   ]
  },
  {
   "cell_type": "markdown",
   "id": "80fa10c3",
   "metadata": {},
   "source": [
    "# np.full()"
   ]
  },
  {
   "cell_type": "code",
   "execution_count": 8,
   "id": "7dcdd4ec",
   "metadata": {},
   "outputs": [],
   "source": [
    "# list of size 10, all filled with value 5"
   ]
  },
  {
   "cell_type": "code",
   "execution_count": 9,
   "id": "1921ffbc",
   "metadata": {},
   "outputs": [
    {
     "data": {
      "text/plain": [
       "array([[0, 0, 0, 0, 0],\n",
       "       [0, 0, 0, 0, 0],\n",
       "       [0, 0, 0, 0, 0],\n",
       "       [0, 0, 0, 0, 0],\n",
       "       [0, 0, 0, 0, 0]])"
      ]
     },
     "execution_count": 9,
     "metadata": {},
     "output_type": "execute_result"
    }
   ],
   "source": [
    "np.full((5,5), 0)"
   ]
  },
  {
   "cell_type": "code",
   "execution_count": 10,
   "id": "90530627",
   "metadata": {},
   "outputs": [
    {
     "data": {
      "text/plain": [
       "array([[100, 100, 100, 100, 100],\n",
       "       [100, 100, 100, 100, 100],\n",
       "       [100, 100, 100, 100, 100],\n",
       "       [100, 100, 100, 100, 100],\n",
       "       [100, 100, 100, 100, 100]])"
      ]
     },
     "execution_count": 10,
     "metadata": {},
     "output_type": "execute_result"
    }
   ],
   "source": [
    "np.full((5,5), 100)"
   ]
  },
  {
   "cell_type": "code",
   "execution_count": 11,
   "id": "c7f08a7d",
   "metadata": {},
   "outputs": [
    {
     "data": {
      "text/plain": [
       "array([5, 5, 5, 5, 5, 5, 5, 5, 5, 5])"
      ]
     },
     "execution_count": 11,
     "metadata": {},
     "output_type": "execute_result"
    }
   ],
   "source": [
    "np.full(10, 5)\n",
    "# np.full(shape, fill_value)"
   ]
  },
  {
   "cell_type": "markdown",
   "id": "a201f50e",
   "metadata": {},
   "source": [
    "# np.eye(n)"
   ]
  },
  {
   "cell_type": "code",
   "execution_count": 12,
   "id": "1d23f79a",
   "metadata": {},
   "outputs": [
    {
     "data": {
      "text/plain": [
       "array([[0., 0., 0., 0., 1., 0.],\n",
       "       [0., 0., 0., 0., 0., 1.],\n",
       "       [0., 0., 0., 0., 0., 0.],\n",
       "       [0., 0., 0., 0., 0., 0.],\n",
       "       [0., 0., 0., 0., 0., 0.],\n",
       "       [0., 0., 0., 0., 0., 0.]])"
      ]
     },
     "execution_count": 12,
     "metadata": {},
     "output_type": "execute_result"
    }
   ],
   "source": [
    "np.eye(6, 6, 4)"
   ]
  },
  {
   "cell_type": "markdown",
   "id": "77750ce6",
   "metadata": {},
   "source": [
    "# np.empty(shape)"
   ]
  },
  {
   "cell_type": "code",
   "execution_count": 13,
   "id": "64f67427",
   "metadata": {},
   "outputs": [],
   "source": [
    "a = np.full((5,5), 0)"
   ]
  },
  {
   "cell_type": "code",
   "execution_count": 14,
   "id": "10a15402",
   "metadata": {},
   "outputs": [
    {
     "name": "stdout",
     "output_type": "stream",
     "text": [
      "[[0 0 0 0 0]\n",
      " [0 0 0 0 0]\n",
      " [0 0 0 0 0]\n",
      " [0 0 0 0 0]\n",
      " [0 0 0 0 0]]\n"
     ]
    }
   ],
   "source": [
    "print(a)"
   ]
  },
  {
   "cell_type": "markdown",
   "id": "a8d5e3cb",
   "metadata": {},
   "source": [
    "# np.empty(shape)"
   ]
  },
  {
   "cell_type": "code",
   "execution_count": 15,
   "id": "47bbb311",
   "metadata": {},
   "outputs": [
    {
     "data": {
      "text/plain": [
       "array([[ 1.15706896e-306,  1.33512173e-306,  2.22379627e-096,\n",
       "        -1.74103569e-310,  4.52787157e-159],\n",
       "       [ 9.43137709e-313,  4.28354915e-321,  2.17292369e-311,\n",
       "         7.72367638e-304,  1.15712261e-306],\n",
       "       [ 0.00000000e+000,  7.26511046e-292,  2.27065077e-312,\n",
       "         1.87597231e-311,  0.00000000e+000],\n",
       "       [ 1.25990589e-300,  0.00000000e+000,  1.15712261e-306,\n",
       "         0.00000000e+000,  6.42261462e+045],\n",
       "       [ 6.89715642e-321, -1.81530551e-310,  1.63321133e-301,\n",
       "         3.43224440e-317,  5.69119271e-311]])"
      ]
     },
     "execution_count": 15,
     "metadata": {},
     "output_type": "execute_result"
    }
   ],
   "source": [
    "np.empty((5,5))"
   ]
  },
  {
   "cell_type": "code",
   "execution_count": 16,
   "id": "c555ab89",
   "metadata": {},
   "outputs": [
    {
     "data": {
      "text/plain": [
       "array([[1, 1, 1, 1, 1],\n",
       "       [1, 1, 1, 1, 1],\n",
       "       [0, 1, 1, 1, 0],\n",
       "       [1, 0, 1, 0, 1],\n",
       "       [1, 1, 1, 1, 1]], dtype=int8)"
      ]
     },
     "execution_count": 16,
     "metadata": {},
     "output_type": "execute_result"
    }
   ],
   "source": [
    "np.empty((5,5), dtype=np.int8)"
   ]
  },
  {
   "cell_type": "code",
   "execution_count": 17,
   "id": "9b59563e",
   "metadata": {},
   "outputs": [
    {
     "data": {
      "text/plain": [
       "array([[   29836540811477108,    30962737072111727,  3175882162233409633,\n",
       "        -9223336797900150934,  2238240857893080083],\n",
       "       [        190893197520,                  867,        4398046511104,\n",
       "           72324775363478272,    29836880117170176],\n",
       "       [                   0,   251357154378383740,         459584831868,\n",
       "               3797010219008,                    0],\n",
       "       [  120189815083106916,                    0,    29836880132178306,\n",
       "                           0,  5292292512113755243],\n",
       "       [                1396, -9223335294662187149,   106960491150049280,\n",
       "                     6946940,       11519102287872]])"
      ]
     },
     "execution_count": 17,
     "metadata": {},
     "output_type": "execute_result"
    }
   ],
   "source": [
    "np.empty((5,5), dtype=int)"
   ]
  },
  {
   "cell_type": "code",
   "execution_count": 18,
   "id": "f0d36e06",
   "metadata": {},
   "outputs": [],
   "source": [
    "import time"
   ]
  },
  {
   "cell_type": "markdown",
   "id": "05e84314",
   "metadata": {},
   "source": [
    "perf_counter() is used to get high-resolution time counter."
   ]
  },
  {
   "cell_type": "code",
   "execution_count": 19,
   "id": "d0e597bb",
   "metadata": {},
   "outputs": [
    {
     "name": "stdout",
     "output_type": "stream",
     "text": [
      "8.759996853768826e-05\n"
     ]
    }
   ],
   "source": [
    "start_e = time.perf_counter()\n",
    "np.empty((5, 5))\n",
    "end_e = time.perf_counter()\n",
    "total_e = end_e - start_e\n",
    "print(total_e)"
   ]
  },
  {
   "cell_type": "code",
   "execution_count": 20,
   "id": "50ef3be4",
   "metadata": {},
   "outputs": [
    {
     "name": "stdout",
     "output_type": "stream",
     "text": [
      "0.00029719993472099304\n"
     ]
    }
   ],
   "source": [
    "start_we = time.perf_counter()\n",
    "np.ones((5, 5))\n",
    "end_we = time.perf_counter()\n",
    "total_we = end_we - start_we\n",
    "print(total_we)"
   ]
  },
  {
   "cell_type": "markdown",
   "id": "0bdaf80e",
   "metadata": {},
   "source": [
    "# np.random.rand(shape)"
   ]
  },
  {
   "cell_type": "code",
   "execution_count": 21,
   "id": "a8268d4c",
   "metadata": {},
   "outputs": [
    {
     "data": {
      "text/plain": [
       "array([[0.82360071, 0.01112223, 0.20873445, 0.91332116, 0.67015343],\n",
       "       [0.50465434, 0.39969807, 0.63170344, 0.35458785, 0.54574556],\n",
       "       [0.13184554, 0.22474631, 0.15142412, 0.31921387, 0.31579734],\n",
       "       [0.63413903, 0.21289969, 0.98833791, 0.27731963, 0.76024013],\n",
       "       [0.37181373, 0.97872097, 0.73300728, 0.60913026, 0.85427024]])"
      ]
     },
     "execution_count": 21,
     "metadata": {},
     "output_type": "execute_result"
    }
   ],
   "source": [
    "np.random.rand(5,5)"
   ]
  },
  {
   "cell_type": "code",
   "execution_count": 22,
   "id": "20fa41bd",
   "metadata": {},
   "outputs": [],
   "source": [
    "a = np.random.rand(10)*10"
   ]
  },
  {
   "cell_type": "code",
   "execution_count": 23,
   "id": "683dc659",
   "metadata": {},
   "outputs": [],
   "source": [
    "a = a.tolist()"
   ]
  },
  {
   "cell_type": "code",
   "execution_count": 24,
   "id": "e61d12e2",
   "metadata": {},
   "outputs": [
    {
     "data": {
      "text/plain": [
       "[7.084953259280207,\n",
       " 3.5321828948118172,\n",
       " 1.0777972964357152,\n",
       " 3.9221914620043186,\n",
       " 8.246496132205085,\n",
       " 6.230048895432169,\n",
       " 9.246960732493354,\n",
       " 3.750617056498744,\n",
       " 6.160012847111247,\n",
       " 0.9789154356909524]"
      ]
     },
     "execution_count": 24,
     "metadata": {},
     "output_type": "execute_result"
    }
   ],
   "source": [
    "a"
   ]
  },
  {
   "cell_type": "code",
   "execution_count": 25,
   "id": "4c563086",
   "metadata": {},
   "outputs": [],
   "source": [
    "a = [int(i) for i in a]"
   ]
  },
  {
   "cell_type": "code",
   "execution_count": 26,
   "id": "f683728e",
   "metadata": {},
   "outputs": [
    {
     "data": {
      "text/plain": [
       "[7, 3, 1, 3, 8, 6, 9, 3, 6, 0]"
      ]
     },
     "execution_count": 26,
     "metadata": {},
     "output_type": "execute_result"
    }
   ],
   "source": [
    "a"
   ]
  },
  {
   "cell_type": "code",
   "execution_count": 27,
   "id": "15945e37",
   "metadata": {},
   "outputs": [
    {
     "data": {
      "text/plain": [
       "[7, 3, 1, 3, 8, 6, 9, 3, 6, 0]"
      ]
     },
     "execution_count": 27,
     "metadata": {},
     "output_type": "execute_result"
    }
   ],
   "source": [
    "a"
   ]
  },
  {
   "cell_type": "code",
   "execution_count": 28,
   "id": "22bbabe2",
   "metadata": {},
   "outputs": [
    {
     "data": {
      "text/plain": [
       "array([10,  4,  1,  4,  2,  1,  2,  1,  5,  5], dtype=int32)"
      ]
     },
     "execution_count": 28,
     "metadata": {},
     "output_type": "execute_result"
    }
   ],
   "source": [
    "np.random.randint(1, 11, 10)"
   ]
  },
  {
   "cell_type": "markdown",
   "id": "3ec40622",
   "metadata": {},
   "source": [
    "# Questions\n",
    "- A 1D array of numbers from 0 to 9\n",
    "- A 3x3 matrix of all 5s\n",
    "- A 4x4 identity matrix\n",
    "- 10 evenly spaced numbers between 1 and 100\n",
    "- A 2x2 array with random values between 0 and 1"
   ]
  },
  {
   "cell_type": "markdown",
   "id": "80ebc6db",
   "metadata": {},
   "source": []
  },
  {
   "cell_type": "markdown",
   "id": "4187d96b",
   "metadata": {},
   "source": []
  },
  {
   "cell_type": "markdown",
   "id": "58dec687",
   "metadata": {},
   "source": []
  },
  {
   "cell_type": "markdown",
   "id": "5e83db90",
   "metadata": {},
   "source": []
  },
  {
   "cell_type": "markdown",
   "id": "654665a6",
   "metadata": {},
   "source": [
    "# Answers\n",
    "\n",
    "\n",
    "A 1D array of numbers from 0 to 9\n",
    "```bash\n",
    "arr1 = np.arange(10)\n",
    "print(arr1)\n",
    "```\n",
    "\n",
    "A 3x3 matrix of all 5s\n",
    "```bash\n",
    "arr2 = np.full((3, 3), 5)\n",
    "print(arr2)\n",
    "```\n",
    "\n",
    "A 4x4 identity matrix\n",
    "```bash\n",
    "arr3 = np.eye(4)\n",
    "print(arr3)\n",
    "```\n",
    "\n",
    "10 evenly spaced numbers between 1 and 100\n",
    "```bash\n",
    "arr4 = np.linspace(1, 100, 10)\n",
    "print(arr4)\n",
    "```\n",
    "\n",
    "A 2x2 array with random values between 0 and 1\n",
    "```bash\n",
    "arr5 = np.random.rand(2, 2)\n",
    "print(arr5)\n",
    "```"
   ]
  },
  {
   "cell_type": "markdown",
   "id": "d1adddbe",
   "metadata": {},
   "source": [
    "# numpy attributes"
   ]
  },
  {
   "cell_type": "code",
   "execution_count": 29,
   "id": "19615ad3",
   "metadata": {},
   "outputs": [],
   "source": [
    "arr = np.array([[1, 2, 3], [4, 5, 6]])"
   ]
  },
  {
   "cell_type": "code",
   "execution_count": 30,
   "id": "e73924cf",
   "metadata": {},
   "outputs": [
    {
     "name": "stdout",
     "output_type": "stream",
     "text": [
      "[[1 2 3]\n",
      " [4 5 6]]\n"
     ]
    }
   ],
   "source": [
    "print(arr)"
   ]
  },
  {
   "cell_type": "code",
   "execution_count": 31,
   "id": "953dae6b",
   "metadata": {},
   "outputs": [
    {
     "data": {
      "text/plain": [
       "(2, 3)"
      ]
     },
     "execution_count": 31,
     "metadata": {},
     "output_type": "execute_result"
    }
   ],
   "source": [
    "arr.shape"
   ]
  },
  {
   "cell_type": "code",
   "execution_count": 32,
   "id": "45bc1981",
   "metadata": {},
   "outputs": [
    {
     "data": {
      "text/plain": [
       "2"
      ]
     },
     "execution_count": 32,
     "metadata": {},
     "output_type": "execute_result"
    }
   ],
   "source": [
    "arr.ndim"
   ]
  },
  {
   "cell_type": "code",
   "execution_count": 33,
   "id": "f82ddd74",
   "metadata": {},
   "outputs": [
    {
     "data": {
      "text/plain": [
       "dtype('int64')"
      ]
     },
     "execution_count": 33,
     "metadata": {},
     "output_type": "execute_result"
    }
   ],
   "source": [
    "arr.dtype"
   ]
  },
  {
   "cell_type": "markdown",
   "id": "217c1de1",
   "metadata": {},
   "source": [
    "# ndarray.itemsize"
   ]
  },
  {
   "cell_type": "code",
   "execution_count": 34,
   "id": "9d1d8406",
   "metadata": {},
   "outputs": [
    {
     "data": {
      "text/plain": [
       "8"
      ]
     },
     "execution_count": 34,
     "metadata": {},
     "output_type": "execute_result"
    }
   ],
   "source": [
    "arr.itemsize # size in bytes of one element"
   ]
  },
  {
   "cell_type": "code",
   "execution_count": 35,
   "id": "2c648f0c",
   "metadata": {},
   "outputs": [],
   "source": [
    "# 1 gb --> 1024 mb\n",
    "# 1 mb --> 1024 kb\n",
    "# 1 kb --> 1024 bytes\n",
    "# 1 byte --> 8 bit\n",
    "\n",
    "# Java\n",
    "# - int --> 4 bytes\n",
    "# - float --> 4 bytes\n",
    "# - char --> 1 byte"
   ]
  },
  {
   "cell_type": "code",
   "execution_count": 36,
   "id": "cfad1f48",
   "metadata": {},
   "outputs": [],
   "source": [
    "# import sys\n",
    "\n",
    "# print(\"Size of int:\", sys.getsizeof(int()))  # Integer\n",
    "# print(\"Size of float:\", sys.getsizeof(float()))  # Floating-point number\n",
    "# print(\"Size of str:\", sys.getsizeof(str()))  # String\n",
    "# print(\"Size of list:\", sys.getsizeof(list()))  # List\n",
    "# print(\"Size of tuple:\", sys.getsizeof(tuple()))  # Tuple\n",
    "# print(\"Size of dict:\", sys.getsizeof(dict()))  # Dictionary\n",
    "# print(\"Size of set:\", sys.getsizeof(set()))  # Set\n"
   ]
  },
  {
   "cell_type": "code",
   "execution_count": 37,
   "id": "b9e49fb0",
   "metadata": {},
   "outputs": [
    {
     "data": {
      "text/plain": [
       "48"
      ]
     },
     "execution_count": 37,
     "metadata": {},
     "output_type": "execute_result"
    }
   ],
   "source": [
    "arr.nbytes # total number of bytes consumed by the array"
   ]
  },
  {
   "cell_type": "code",
   "execution_count": 38,
   "id": "1f6e9537",
   "metadata": {},
   "outputs": [],
   "source": [
    "arr = np.array([[1, 2, 3], [4, 5, 6]])"
   ]
  },
  {
   "cell_type": "code",
   "execution_count": 39,
   "id": "6cc3ba66",
   "metadata": {},
   "outputs": [
    {
     "data": {
      "text/plain": [
       "array([[1, 2, 3],\n",
       "       [4, 5, 6]])"
      ]
     },
     "execution_count": 39,
     "metadata": {},
     "output_type": "execute_result"
    }
   ],
   "source": [
    "arr"
   ]
  },
  {
   "cell_type": "code",
   "execution_count": 40,
   "id": "32e7516c",
   "metadata": {},
   "outputs": [
    {
     "data": {
      "text/plain": [
       "array([[1, 4],\n",
       "       [2, 5],\n",
       "       [3, 6]])"
      ]
     },
     "execution_count": 40,
     "metadata": {},
     "output_type": "execute_result"
    }
   ],
   "source": [
    "arr.T"
   ]
  },
  {
   "cell_type": "code",
   "execution_count": 41,
   "id": "a3d860a6",
   "metadata": {},
   "outputs": [],
   "source": [
    "a = np.array([[1,2,3], [4,5,6]])"
   ]
  },
  {
   "cell_type": "code",
   "execution_count": 42,
   "id": "9d5428c3",
   "metadata": {},
   "outputs": [
    {
     "name": "stdout",
     "output_type": "stream",
     "text": [
      "(2, 3)\n",
      "(3, 2)\n"
     ]
    }
   ],
   "source": [
    "print(a.shape)\n",
    "print(a.T.shape)"
   ]
  },
  {
   "cell_type": "code",
   "execution_count": 43,
   "id": "a7f7f1ca",
   "metadata": {},
   "outputs": [
    {
     "name": "stdout",
     "output_type": "stream",
     "text": [
      "[[1 2 3]\n",
      " [4 5 6]]\n",
      "[[1 4]\n",
      " [2 5]\n",
      " [3 6]]\n"
     ]
    }
   ],
   "source": [
    "print(a)\n",
    "print(a.T)"
   ]
  },
  {
   "cell_type": "code",
   "execution_count": 44,
   "id": "d4f0f542",
   "metadata": {},
   "outputs": [
    {
     "name": "stdout",
     "output_type": "stream",
     "text": [
      "[[3 3 3 3 3]\n",
      " [3 3 3 3 3]\n",
      " [3 3 3 3 3]]\n",
      "[[3 3 3]\n",
      " [3 3 3]\n",
      " [3 3 3]\n",
      " [3 3 3]\n",
      " [3 3 3]]\n"
     ]
    }
   ],
   "source": [
    "z = np.full((3,5),3)\n",
    "print(z)\n",
    "z = z.T\n",
    "print(z)\n"
   ]
  },
  {
   "cell_type": "markdown",
   "id": "0baa5efb",
   "metadata": {},
   "source": [
    "# indexing and slicing"
   ]
  },
  {
   "cell_type": "code",
   "execution_count": 45,
   "id": "b82736b0",
   "metadata": {},
   "outputs": [],
   "source": [
    "arr = np.array([10,20,30,40,50,60])"
   ]
  },
  {
   "cell_type": "code",
   "execution_count": 46,
   "id": "d1940e19",
   "metadata": {},
   "outputs": [
    {
     "name": "stdout",
     "output_type": "stream",
     "text": [
      "10\n",
      "60\n"
     ]
    }
   ],
   "source": [
    "print(arr[0])\n",
    "print(arr[-1])"
   ]
  },
  {
   "cell_type": "code",
   "execution_count": 47,
   "id": "eff884db",
   "metadata": {},
   "outputs": [
    {
     "name": "stdout",
     "output_type": "stream",
     "text": [
      "[20 30 40]\n",
      "[10 20 30]\n",
      "[10 20 30]\n"
     ]
    }
   ],
   "source": [
    "print(arr[1:4])\n",
    "print(arr[:3])\n",
    "print(arr[0:3])"
   ]
  },
  {
   "cell_type": "code",
   "execution_count": 48,
   "id": "f268cbbd",
   "metadata": {},
   "outputs": [
    {
     "name": "stdout",
     "output_type": "stream",
     "text": [
      "[10 30 50]\n"
     ]
    }
   ],
   "source": [
    "print(arr[::2]) # (start with 0 and step size 2)\n"
   ]
  },
  {
   "cell_type": "code",
   "execution_count": 49,
   "id": "499cbfe9",
   "metadata": {},
   "outputs": [],
   "source": [
    "mat = np.array([[1, 2, 3],\n",
    "                [4, 5, 6],\n",
    "                [7, 8, 9]])"
   ]
  },
  {
   "cell_type": "code",
   "execution_count": 50,
   "id": "ab1b82aa",
   "metadata": {},
   "outputs": [
    {
     "name": "stdout",
     "output_type": "stream",
     "text": [
      "2\n",
      "[4 5 6]\n",
      "[3 6 9]\n",
      "[3 6 9]\n"
     ]
    }
   ],
   "source": [
    "print(mat[0,1])\n",
    "print(mat[1])\n",
    "print(mat[:,2])\n",
    "print(mat[:,-1])"
   ]
  },
  {
   "cell_type": "code",
   "execution_count": 51,
   "id": "6fc3d9f0",
   "metadata": {},
   "outputs": [
    {
     "name": "stdout",
     "output_type": "stream",
     "text": [
      "[[2 3]\n",
      " [5 6]]\n"
     ]
    }
   ],
   "source": [
    "print(mat[0:2,1:])"
   ]
  },
  {
   "cell_type": "code",
   "execution_count": 52,
   "id": "5aa7c104",
   "metadata": {},
   "outputs": [],
   "source": [
    "arr_temp = np.array([1,2,3,4,5,6,7,8,9])"
   ]
  },
  {
   "cell_type": "code",
   "execution_count": 53,
   "id": "2321190e",
   "metadata": {},
   "outputs": [
    {
     "data": {
      "text/plain": [
       "array([9, 8, 7, 6, 5, 4, 3, 2, 1])"
      ]
     },
     "execution_count": 53,
     "metadata": {},
     "output_type": "execute_result"
    }
   ],
   "source": [
    "arr_temp[::-1]"
   ]
  },
  {
   "cell_type": "code",
   "execution_count": 54,
   "id": "bc3b8e6f",
   "metadata": {},
   "outputs": [
    {
     "name": "stdout",
     "output_type": "stream",
     "text": [
      "[[9 8 7]\n",
      " [6 5 4]\n",
      " [3 2 1]]\n"
     ]
    }
   ],
   "source": [
    "# [[9, 8, 7],\n",
    "# [6, 5, 4],\n",
    "# [3, 2, 1]]\n",
    "\n",
    "print(mat[::-1, ::-1])"
   ]
  },
  {
   "cell_type": "code",
   "execution_count": 55,
   "id": "ad063f7d",
   "metadata": {},
   "outputs": [],
   "source": [
    "arr = np.array([5, 10, 15, 20, 25])"
   ]
  },
  {
   "cell_type": "code",
   "execution_count": 56,
   "id": "f42e3e70",
   "metadata": {},
   "outputs": [
    {
     "data": {
      "text/plain": [
       "array([False, False,  True,  True,  True])"
      ]
     },
     "execution_count": 56,
     "metadata": {},
     "output_type": "execute_result"
    }
   ],
   "source": [
    "arr>10"
   ]
  },
  {
   "cell_type": "code",
   "execution_count": 57,
   "id": "44d358ac",
   "metadata": {},
   "outputs": [
    {
     "name": "stdout",
     "output_type": "stream",
     "text": [
      "[15 20 25]\n"
     ]
    }
   ],
   "source": [
    "print(arr[arr>10]) # boolean indexing"
   ]
  },
  {
   "cell_type": "code",
   "execution_count": 58,
   "id": "d1a4b473",
   "metadata": {},
   "outputs": [
    {
     "data": {
      "text/plain": [
       "array([ 5, 20, 25])"
      ]
     },
     "execution_count": 58,
     "metadata": {},
     "output_type": "execute_result"
    }
   ],
   "source": [
    "indx = [0,3,4]\n",
    "arr[indx]"
   ]
  },
  {
   "cell_type": "code",
   "execution_count": 59,
   "id": "b89baf0d",
   "metadata": {},
   "outputs": [
    {
     "name": "stdout",
     "output_type": "stream",
     "text": [
      "[50 10 15 20 25]\n"
     ]
    }
   ],
   "source": [
    "arr[0] = 50\n",
    "print(arr)"
   ]
  },
  {
   "cell_type": "markdown",
   "id": "e329594a",
   "metadata": {},
   "source": [
    "# indexing with np.where()"
   ]
  },
  {
   "cell_type": "code",
   "execution_count": 60,
   "id": "238ef84a",
   "metadata": {},
   "outputs": [],
   "source": [
    "arr = np.array([10, 15, 20, 25, 30])"
   ]
  },
  {
   "cell_type": "code",
   "execution_count": 61,
   "id": "da1c9477",
   "metadata": {},
   "outputs": [
    {
     "name": "stdout",
     "output_type": "stream",
     "text": [
      "(array([3, 4]),)\n"
     ]
    }
   ],
   "source": [
    "idx = np.where(arr>20)\n",
    "print(idx)"
   ]
  },
  {
   "cell_type": "code",
   "execution_count": 62,
   "id": "c7b976ec",
   "metadata": {},
   "outputs": [
    {
     "name": "stdout",
     "output_type": "stream",
     "text": [
      "[25 30]\n"
     ]
    }
   ],
   "source": [
    "print(arr[idx])"
   ]
  },
  {
   "cell_type": "markdown",
   "id": "0dd1146d",
   "metadata": {},
   "source": [
    "# array reshaping and resizing"
   ]
  },
  {
   "cell_type": "code",
   "execution_count": 63,
   "id": "a85c1ace",
   "metadata": {},
   "outputs": [],
   "source": [
    "arr = np.array([1, 2, 3, 4, 5, 6])"
   ]
  },
  {
   "cell_type": "code",
   "execution_count": 64,
   "id": "a267dd14",
   "metadata": {},
   "outputs": [
    {
     "data": {
      "text/plain": [
       "(6,)"
      ]
     },
     "execution_count": 64,
     "metadata": {},
     "output_type": "execute_result"
    }
   ],
   "source": [
    "arr.shape"
   ]
  },
  {
   "cell_type": "code",
   "execution_count": 65,
   "id": "5fadcc28",
   "metadata": {},
   "outputs": [],
   "source": [
    "reshaped = arr.reshape(2,3)"
   ]
  },
  {
   "cell_type": "code",
   "execution_count": 66,
   "id": "e0470486",
   "metadata": {},
   "outputs": [
    {
     "name": "stdout",
     "output_type": "stream",
     "text": [
      "[[1 2 3]\n",
      " [4 5 6]]\n"
     ]
    }
   ],
   "source": [
    "print(reshaped)"
   ]
  },
  {
   "cell_type": "code",
   "execution_count": 67,
   "id": "e4d999da",
   "metadata": {},
   "outputs": [],
   "source": [
    "arr = np.array([1, 2, 3, 4, 5, 6,7,8,9,10,11,12])"
   ]
  },
  {
   "cell_type": "code",
   "execution_count": 68,
   "id": "5a94605f",
   "metadata": {},
   "outputs": [],
   "source": [
    "reshaped = arr.reshape(3,-1)"
   ]
  },
  {
   "cell_type": "code",
   "execution_count": 69,
   "id": "a339273d",
   "metadata": {},
   "outputs": [
    {
     "name": "stdout",
     "output_type": "stream",
     "text": [
      "[[ 1  2  3  4]\n",
      " [ 5  6  7  8]\n",
      " [ 9 10 11 12]]\n"
     ]
    }
   ],
   "source": [
    "print(reshaped)"
   ]
  },
  {
   "cell_type": "code",
   "execution_count": 70,
   "id": "4d1fe52c",
   "metadata": {},
   "outputs": [
    {
     "data": {
      "text/plain": [
       "(3, 4)"
      ]
     },
     "execution_count": 70,
     "metadata": {},
     "output_type": "execute_result"
    }
   ],
   "source": [
    "reshaped.shape"
   ]
  },
  {
   "cell_type": "code",
   "execution_count": 71,
   "id": "a3951548",
   "metadata": {},
   "outputs": [],
   "source": [
    "a = np.array([[1, 2], [3, 4]])"
   ]
  },
  {
   "cell_type": "code",
   "execution_count": 72,
   "id": "f66bf6ee",
   "metadata": {},
   "outputs": [],
   "source": [
    "b = a.flatten()"
   ]
  },
  {
   "cell_type": "code",
   "execution_count": 73,
   "id": "8cbfe0ca",
   "metadata": {},
   "outputs": [
    {
     "data": {
      "text/plain": [
       "array([1, 2, 3, 4])"
      ]
     },
     "execution_count": 73,
     "metadata": {},
     "output_type": "execute_result"
    }
   ],
   "source": [
    "b"
   ]
  },
  {
   "cell_type": "code",
   "execution_count": 74,
   "id": "aa5ff22b",
   "metadata": {},
   "outputs": [],
   "source": [
    "a = np.array([1, 2, 3, 4])"
   ]
  },
  {
   "cell_type": "code",
   "execution_count": 75,
   "id": "ab9e67c4",
   "metadata": {},
   "outputs": [],
   "source": [
    "a.resize((2,3))"
   ]
  },
  {
   "cell_type": "code",
   "execution_count": 76,
   "id": "d54e30e6",
   "metadata": {},
   "outputs": [
    {
     "name": "stdout",
     "output_type": "stream",
     "text": [
      "[[1 2 3]\n",
      " [4 0 0]]\n"
     ]
    }
   ],
   "source": [
    "print(a)"
   ]
  },
  {
   "cell_type": "code",
   "execution_count": 77,
   "id": "e0dd503f",
   "metadata": {},
   "outputs": [],
   "source": [
    "a = np.array([1, 2, 3, 4])"
   ]
  },
  {
   "cell_type": "code",
   "execution_count": 78,
   "id": "53818952",
   "metadata": {},
   "outputs": [],
   "source": [
    "a.resize((2,1))"
   ]
  },
  {
   "cell_type": "code",
   "execution_count": 79,
   "id": "51b11f79",
   "metadata": {},
   "outputs": [
    {
     "name": "stdout",
     "output_type": "stream",
     "text": [
      "[[1]\n",
      " [2]]\n"
     ]
    }
   ],
   "source": [
    "print(a)"
   ]
  },
  {
   "cell_type": "code",
   "execution_count": 80,
   "id": "b458dc57",
   "metadata": {},
   "outputs": [],
   "source": [
    "# reshape will throw error if values are insufficient\n",
    "# resize will truncate or padd with zeros"
   ]
  },
  {
   "cell_type": "code",
   "execution_count": 81,
   "id": "2495f21d",
   "metadata": {},
   "outputs": [
    {
     "ename": "SyntaxError",
     "evalue": "invalid syntax (3561788237.py, line 1)",
     "output_type": "error",
     "traceback": [
      "  \u001b[36mCell\u001b[39m\u001b[36m \u001b[39m\u001b[32mIn[81]\u001b[39m\u001b[32m, line 1\u001b[39m\n\u001b[31m    \u001b[39m\u001b[31m12, (4,5)--> 20 --> reshape will throw error\u001b[39m\n              ^\n\u001b[31mSyntaxError\u001b[39m\u001b[31m:\u001b[39m invalid syntax\n"
     ]
    }
   ],
   "source": [
    "12, (4,5)--> 20 --> reshape will throw error\n",
    "12, (4,5) --> 20 --> resize, it will pad extra element with 0\n",
    "\n",
    "12-> 8--> 0"
   ]
  },
  {
   "cell_type": "code",
   "execution_count": null,
   "id": "5610a82a",
   "metadata": {},
   "outputs": [
    {
     "name": "stdout",
     "output_type": "stream",
     "text": [
      "(2, 3, 1)\n"
     ]
    }
   ],
   "source": [
    "a = np.array([[[1],[2],[3]], [[1],[2],[3]]])\n",
    "print(a.shape)"
   ]
  },
  {
   "cell_type": "code",
   "execution_count": null,
   "id": "93c8d19c",
   "metadata": {},
   "outputs": [
    {
     "name": "stdout",
     "output_type": "stream",
     "text": [
      "(3, 1)\n"
     ]
    }
   ],
   "source": [
    "a = np.array([[1],[2],[3]])\n",
    "print(a.shape)"
   ]
  },
  {
   "cell_type": "code",
   "execution_count": null,
   "id": "4ccf5469",
   "metadata": {},
   "outputs": [
    {
     "name": "stdout",
     "output_type": "stream",
     "text": [
      "(1, 3, 1)\n"
     ]
    }
   ],
   "source": [
    "a = np.array([[[1],[2],[3]]])\n",
    "print(a.shape)"
   ]
  },
  {
   "cell_type": "code",
   "execution_count": null,
   "id": "ab0c5d76",
   "metadata": {},
   "outputs": [
    {
     "name": "stdout",
     "output_type": "stream",
     "text": [
      "(2, 3, 1)\n",
      "(2, 3)\n",
      "[[1 2 3]\n",
      " [1 2 3]]\n"
     ]
    }
   ],
   "source": [
    "a = np.array([[[1],[2],[3]], [[1],[2],[3]]])\n",
    "print(a.shape)\n",
    "b = np.squeeze(a)\n",
    "print(b.shape)\n",
    "print(b)"
   ]
  },
  {
   "cell_type": "code",
   "execution_count": null,
   "id": "880bc22a",
   "metadata": {},
   "outputs": [
    {
     "name": "stdout",
     "output_type": "stream",
     "text": [
      "(3,)\n",
      "[1 2 3]\n"
     ]
    }
   ],
   "source": [
    "b = np.squeeze(a)\n",
    "print(b.shape)\n",
    "print(b)"
   ]
  },
  {
   "cell_type": "code",
   "execution_count": null,
   "id": "e4362ee3",
   "metadata": {},
   "outputs": [
    {
     "name": "stdout",
     "output_type": "stream",
     "text": [
      "(1, 3, 1)\n",
      "(3, 1)\n",
      "[[1]\n",
      " [2]\n",
      " [3]]\n"
     ]
    }
   ],
   "source": [
    "a = np.array([[[1],[2],[3]]])\n",
    "print(a.shape)\n",
    "b = np.squeeze(a, axis=0)\n",
    "print(b.shape)\n",
    "print(b)"
   ]
  },
  {
   "cell_type": "code",
   "execution_count": null,
   "id": "901fa85c",
   "metadata": {},
   "outputs": [
    {
     "name": "stdout",
     "output_type": "stream",
     "text": [
      "[[1 2 3]]\n"
     ]
    }
   ],
   "source": [
    "b = np.array([b])\n",
    "print(b)"
   ]
  },
  {
   "cell_type": "code",
   "execution_count": null,
   "id": "3f6bd3de",
   "metadata": {},
   "outputs": [],
   "source": [
    "a = np.array([\n",
    "                [1,2,3],\n",
    "                [1,2,3],\n",
    "                [1,2,3]\n",
    "            ])"
   ]
  },
  {
   "cell_type": "code",
   "execution_count": null,
   "id": "c5f05322",
   "metadata": {},
   "outputs": [
    {
     "name": "stdout",
     "output_type": "stream",
     "text": [
      "[3 6 9]\n"
     ]
    }
   ],
   "source": [
    "print(np.sum(a, axis=0)) # rows wise"
   ]
  },
  {
   "cell_type": "code",
   "execution_count": null,
   "id": "f49a12aa",
   "metadata": {},
   "outputs": [
    {
     "name": "stdout",
     "output_type": "stream",
     "text": [
      "[6 6 6]\n"
     ]
    }
   ],
   "source": [
    "print(np.sum(a, axis=1)) # column wise"
   ]
  },
  {
   "cell_type": "code",
   "execution_count": null,
   "id": "ac47e4d6",
   "metadata": {},
   "outputs": [],
   "source": []
  }
 ],
 "metadata": {
  "kernelspec": {
   "display_name": "Python 3",
   "language": "python",
   "name": "python3"
  },
  "language_info": {
   "codemirror_mode": {
    "name": "ipython",
    "version": 3
   },
   "file_extension": ".py",
   "mimetype": "text/x-python",
   "name": "python",
   "nbconvert_exporter": "python",
   "pygments_lexer": "ipython3",
   "version": "3.11.3"
  }
 },
 "nbformat": 4,
 "nbformat_minor": 5
}
