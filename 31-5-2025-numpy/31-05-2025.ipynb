{
 "cells": [
  {
   "cell_type": "markdown",
   "id": "8e67c793",
   "metadata": {},
   "source": [
    "# np.zeros()"
   ]
  },
  {
   "cell_type": "code",
   "execution_count": 1,
   "id": "9c3e3add",
   "metadata": {},
   "outputs": [],
   "source": [
    "### np.zeros()\n",
    "\n",
    "import numpy as np"
   ]
  },
  {
   "cell_type": "code",
   "execution_count": 2,
   "id": "b3a303ac",
   "metadata": {},
   "outputs": [
    {
     "data": {
      "text/plain": [
       "array([0., 0., 0., 0., 0.])"
      ]
     },
     "execution_count": 2,
     "metadata": {},
     "output_type": "execute_result"
    }
   ],
   "source": [
    "np.zeros(5)"
   ]
  },
  {
   "cell_type": "code",
   "execution_count": 3,
   "id": "1ba023c6",
   "metadata": {},
   "outputs": [
    {
     "data": {
      "text/plain": [
       "array([[0., 0., 0., 0., 0.],\n",
       "       [0., 0., 0., 0., 0.],\n",
       "       [0., 0., 0., 0., 0.],\n",
       "       [0., 0., 0., 0., 0.],\n",
       "       [0., 0., 0., 0., 0.]])"
      ]
     },
     "execution_count": 3,
     "metadata": {},
     "output_type": "execute_result"
    }
   ],
   "source": [
    "np.zeros((5, 5))"
   ]
  },
  {
   "cell_type": "code",
   "execution_count": 4,
   "id": "0e388ba6",
   "metadata": {},
   "outputs": [
    {
     "data": {
      "text/plain": [
       "(5, 5)"
      ]
     },
     "execution_count": 4,
     "metadata": {},
     "output_type": "execute_result"
    }
   ],
   "source": [
    "np.zeros((5, 5)).shape"
   ]
  },
  {
   "cell_type": "code",
   "execution_count": 5,
   "id": "9e42d3c7",
   "metadata": {},
   "outputs": [
    {
     "data": {
      "text/plain": [
       "2"
      ]
     },
     "execution_count": 5,
     "metadata": {},
     "output_type": "execute_result"
    }
   ],
   "source": [
    "np.zeros((5, 5)).ndim"
   ]
  },
  {
   "cell_type": "markdown",
   "id": "77612b1e",
   "metadata": {},
   "source": [
    "# np.ones()"
   ]
  },
  {
   "cell_type": "code",
   "execution_count": 6,
   "id": "b8e229fd",
   "metadata": {},
   "outputs": [
    {
     "data": {
      "text/plain": [
       "array([[1., 1., 1., 1., 1.],\n",
       "       [1., 1., 1., 1., 1.],\n",
       "       [1., 1., 1., 1., 1.],\n",
       "       [1., 1., 1., 1., 1.],\n",
       "       [1., 1., 1., 1., 1.]])"
      ]
     },
     "execution_count": 6,
     "metadata": {},
     "output_type": "execute_result"
    }
   ],
   "source": [
    "np.ones((5,5))"
   ]
  },
  {
   "cell_type": "code",
   "execution_count": 7,
   "id": "21331fb1",
   "metadata": {},
   "outputs": [
    {
     "data": {
      "text/plain": [
       "array([[1, 1, 1, 1, 1],\n",
       "       [1, 1, 1, 1, 1],\n",
       "       [1, 1, 1, 1, 1],\n",
       "       [1, 1, 1, 1, 1],\n",
       "       [1, 1, 1, 1, 1]], dtype=int8)"
      ]
     },
     "execution_count": 7,
     "metadata": {},
     "output_type": "execute_result"
    }
   ],
   "source": [
    "np.ones((5,5), dtype=np.int8)"
   ]
  },
  {
   "cell_type": "markdown",
   "id": "80fa10c3",
   "metadata": {},
   "source": [
    "# np.full()"
   ]
  },
  {
   "cell_type": "code",
   "execution_count": 8,
   "id": "7dcdd4ec",
   "metadata": {},
   "outputs": [],
   "source": [
    "# list of size 10, all filled with value 5"
   ]
  },
  {
   "cell_type": "code",
   "execution_count": 9,
   "id": "1921ffbc",
   "metadata": {},
   "outputs": [
    {
     "data": {
      "text/plain": [
       "array([[0, 0, 0, 0, 0],\n",
       "       [0, 0, 0, 0, 0],\n",
       "       [0, 0, 0, 0, 0],\n",
       "       [0, 0, 0, 0, 0],\n",
       "       [0, 0, 0, 0, 0]])"
      ]
     },
     "execution_count": 9,
     "metadata": {},
     "output_type": "execute_result"
    }
   ],
   "source": [
    "np.full((5,5), 0)"
   ]
  },
  {
   "cell_type": "code",
   "execution_count": 10,
   "id": "90530627",
   "metadata": {},
   "outputs": [
    {
     "data": {
      "text/plain": [
       "array([[100, 100, 100, 100, 100],\n",
       "       [100, 100, 100, 100, 100],\n",
       "       [100, 100, 100, 100, 100],\n",
       "       [100, 100, 100, 100, 100],\n",
       "       [100, 100, 100, 100, 100]])"
      ]
     },
     "execution_count": 10,
     "metadata": {},
     "output_type": "execute_result"
    }
   ],
   "source": [
    "np.full((5,5), 100)"
   ]
  },
  {
   "cell_type": "code",
   "execution_count": 11,
   "id": "c7f08a7d",
   "metadata": {},
   "outputs": [
    {
     "data": {
      "text/plain": [
       "array([5, 5, 5, 5, 5, 5, 5, 5, 5, 5])"
      ]
     },
     "execution_count": 11,
     "metadata": {},
     "output_type": "execute_result"
    }
   ],
   "source": [
    "np.full(10, 5)\n",
    "# np.full(shape, fill_value)"
   ]
  },
  {
   "cell_type": "markdown",
   "id": "a201f50e",
   "metadata": {},
   "source": [
    "# np.eye(n)"
   ]
  },
  {
   "cell_type": "code",
   "execution_count": 12,
   "id": "1d23f79a",
   "metadata": {},
   "outputs": [
    {
     "data": {
      "text/plain": [
       "array([[0., 0., 0., 0., 1., 0.],\n",
       "       [0., 0., 0., 0., 0., 1.],\n",
       "       [0., 0., 0., 0., 0., 0.],\n",
       "       [0., 0., 0., 0., 0., 0.],\n",
       "       [0., 0., 0., 0., 0., 0.],\n",
       "       [0., 0., 0., 0., 0., 0.]])"
      ]
     },
     "execution_count": 12,
     "metadata": {},
     "output_type": "execute_result"
    }
   ],
   "source": [
    "np.eye(6, 6, 4)"
   ]
  },
  {
   "cell_type": "markdown",
   "id": "77750ce6",
   "metadata": {},
   "source": [
    "# np.empty(shape)"
   ]
  },
  {
   "cell_type": "code",
   "execution_count": 13,
   "id": "64f67427",
   "metadata": {},
   "outputs": [],
   "source": [
    "a = np.full((5,5), 0)"
   ]
  },
  {
   "cell_type": "code",
   "execution_count": 14,
   "id": "10a15402",
   "metadata": {},
   "outputs": [
    {
     "name": "stdout",
     "output_type": "stream",
     "text": [
      "[[0 0 0 0 0]\n",
      " [0 0 0 0 0]\n",
      " [0 0 0 0 0]\n",
      " [0 0 0 0 0]\n",
      " [0 0 0 0 0]]\n"
     ]
    }
   ],
   "source": [
    "print(a)"
   ]
  },
  {
   "cell_type": "markdown",
   "id": "a8d5e3cb",
   "metadata": {},
   "source": [
    "# np.empty(shape)"
   ]
  },
  {
   "cell_type": "code",
   "execution_count": 15,
   "id": "47bbb311",
   "metadata": {},
   "outputs": [
    {
     "data": {
      "text/plain": [
       "array([[1.15623214e-311, 0.00000000e+000, 0.00000000e+000,\n",
       "        1.15623214e-311, 0.00000000e+000],\n",
       "       [3.45845952e-323, 1.15623214e-311, 1.15623214e-311,\n",
       "        0.00000000e+000, 4.03179200e-313],\n",
       "       [4.45619116e-313, 0.00000000e+000, 1.15623214e-311,\n",
       "        0.00000000e+000, 0.00000000e+000],\n",
       "       [1.15623214e-311, 0.00000000e+000, 3.45845952e-323,\n",
       "        1.15623214e-311, 1.15623214e-311],\n",
       "       [0.00000000e+000, 4.03179200e-313, 4.45619116e-313,\n",
       "        5.58294180e-321, 1.15623214e-311]])"
      ]
     },
     "execution_count": 15,
     "metadata": {},
     "output_type": "execute_result"
    }
   ],
   "source": [
    "np.empty((5,5))"
   ]
  },
  {
   "cell_type": "code",
   "execution_count": 16,
   "id": "c555ab89",
   "metadata": {},
   "outputs": [
    {
     "data": {
      "text/plain": [
       "array([[1, 0, 0, 1, 0],\n",
       "       [1, 1, 1, 0, 1],\n",
       "       [1, 0, 1, 0, 0],\n",
       "       [1, 0, 1, 1, 1],\n",
       "       [0, 1, 1, 1, 1]], dtype=int8)"
      ]
     },
     "execution_count": 16,
     "metadata": {},
     "output_type": "execute_result"
    }
   ],
   "source": [
    "np.empty((5,5), dtype=np.int8)"
   ]
  },
  {
   "cell_type": "code",
   "execution_count": 17,
   "id": "9b59563e",
   "metadata": {},
   "outputs": [
    {
     "data": {
      "text/plain": [
       "array([[2340239902824,             0,             0, 2340239902848,\n",
       "                    0],\n",
       "       [            7, 2340239902832, 2340239902808,             0,\n",
       "          81604378649],\n",
       "       [  90194313241,             0, 2340239902920,             0,\n",
       "                    0],\n",
       "       [2340239902944,             0,             7, 2340239902928,\n",
       "        2340239902904],\n",
       "       [            0,   81604378649,   90194313241,          1130,\n",
       "        2340239902856]])"
      ]
     },
     "execution_count": 17,
     "metadata": {},
     "output_type": "execute_result"
    }
   ],
   "source": [
    "np.empty((5,5), dtype=int)"
   ]
  },
  {
   "cell_type": "code",
   "execution_count": 18,
   "id": "f0d36e06",
   "metadata": {},
   "outputs": [],
   "source": [
    "import time"
   ]
  },
  {
   "cell_type": "markdown",
   "id": "05e84314",
   "metadata": {},
   "source": [
    "perf_counter() is used to get high-resolution time counter."
   ]
  },
  {
   "cell_type": "code",
   "execution_count": 19,
   "id": "d0e597bb",
   "metadata": {},
   "outputs": [
    {
     "name": "stdout",
     "output_type": "stream",
     "text": [
      "7.369997911155224e-05\n"
     ]
    }
   ],
   "source": [
    "start_e = time.perf_counter()\n",
    "np.empty((5, 5))\n",
    "end_e = time.perf_counter()\n",
    "total_e = end_e - start_e\n",
    "print(total_e)"
   ]
  },
  {
   "cell_type": "code",
   "execution_count": 20,
   "id": "50ef3be4",
   "metadata": {},
   "outputs": [
    {
     "name": "stdout",
     "output_type": "stream",
     "text": [
      "0.0003614000743255019\n"
     ]
    }
   ],
   "source": [
    "start_we = time.perf_counter()\n",
    "np.ones((5, 5))\n",
    "end_we = time.perf_counter()\n",
    "total_we = end_we - start_we\n",
    "print(total_we)"
   ]
  },
  {
   "cell_type": "markdown",
   "id": "0bdaf80e",
   "metadata": {},
   "source": [
    "# np.random.rand(shape)"
   ]
  },
  {
   "cell_type": "code",
   "execution_count": 21,
   "id": "a8268d4c",
   "metadata": {},
   "outputs": [
    {
     "data": {
      "text/plain": [
       "array([[0.2103773 , 0.84333429, 0.78056544, 0.71843491, 0.7511394 ],\n",
       "       [0.40130245, 0.59980086, 0.21602844, 0.92473521, 0.22193293],\n",
       "       [0.87323876, 0.6982999 , 0.17698871, 0.61066798, 0.29063571],\n",
       "       [0.26878899, 0.08165978, 0.4356622 , 0.73319303, 0.84322139],\n",
       "       [0.03596751, 0.6805978 , 0.0676481 , 0.26584322, 0.40746317]])"
      ]
     },
     "execution_count": 21,
     "metadata": {},
     "output_type": "execute_result"
    }
   ],
   "source": [
    "np.random.rand(5,5)"
   ]
  },
  {
   "cell_type": "code",
   "execution_count": 22,
   "id": "20fa41bd",
   "metadata": {},
   "outputs": [],
   "source": [
    "a = np.random.rand(10)*10"
   ]
  },
  {
   "cell_type": "code",
   "execution_count": 23,
   "id": "683dc659",
   "metadata": {},
   "outputs": [],
   "source": [
    "a = a.tolist()"
   ]
  },
  {
   "cell_type": "code",
   "execution_count": 24,
   "id": "e61d12e2",
   "metadata": {},
   "outputs": [
    {
     "data": {
      "text/plain": [
       "[5.468894006562534,\n",
       " 1.6232626767811786,\n",
       " 7.8651882659080545,\n",
       " 9.597975509000385,\n",
       " 5.45551060670682,\n",
       " 2.6190168338938467,\n",
       " 1.7907115458510947,\n",
       " 3.9864169905997224,\n",
       " 2.0434069178851844,\n",
       " 3.596854885902675]"
      ]
     },
     "execution_count": 24,
     "metadata": {},
     "output_type": "execute_result"
    }
   ],
   "source": [
    "a"
   ]
  },
  {
   "cell_type": "code",
   "execution_count": 25,
   "id": "4c563086",
   "metadata": {},
   "outputs": [],
   "source": [
    "a = [int(i) for i in a]"
   ]
  },
  {
   "cell_type": "code",
   "execution_count": 26,
   "id": "f683728e",
   "metadata": {},
   "outputs": [
    {
     "data": {
      "text/plain": [
       "[5, 1, 7, 9, 5, 2, 1, 3, 2, 3]"
      ]
     },
     "execution_count": 26,
     "metadata": {},
     "output_type": "execute_result"
    }
   ],
   "source": [
    "a"
   ]
  },
  {
   "cell_type": "code",
   "execution_count": 27,
   "id": "15945e37",
   "metadata": {},
   "outputs": [
    {
     "data": {
      "text/plain": [
       "[5, 1, 7, 9, 5, 2, 1, 3, 2, 3]"
      ]
     },
     "execution_count": 27,
     "metadata": {},
     "output_type": "execute_result"
    }
   ],
   "source": [
    "a"
   ]
  },
  {
   "cell_type": "code",
   "execution_count": 28,
   "id": "22bbabe2",
   "metadata": {},
   "outputs": [
    {
     "data": {
      "text/plain": [
       "array([ 2,  8,  3,  9,  7,  2,  2,  7,  1, 10], dtype=int32)"
      ]
     },
     "execution_count": 28,
     "metadata": {},
     "output_type": "execute_result"
    }
   ],
   "source": [
    "np.random.randint(1, 11, 10)"
   ]
  },
  {
   "cell_type": "markdown",
   "id": "3ec40622",
   "metadata": {},
   "source": [
    "# Questions\n",
    "- A 1D array of numbers from 0 to 9\n",
    "- A 3x3 matrix of all 5s\n",
    "- A 4x4 identity matrix\n",
    "- 10 evenly spaced numbers between 1 and 100\n",
    "- A 2x2 array with random values between 0 and 1"
   ]
  },
  {
   "cell_type": "markdown",
   "id": "80ebc6db",
   "metadata": {},
   "source": []
  },
  {
   "cell_type": "markdown",
   "id": "4187d96b",
   "metadata": {},
   "source": []
  },
  {
   "cell_type": "markdown",
   "id": "58dec687",
   "metadata": {},
   "source": []
  },
  {
   "cell_type": "markdown",
   "id": "5e83db90",
   "metadata": {},
   "source": []
  },
  {
   "cell_type": "markdown",
   "id": "654665a6",
   "metadata": {},
   "source": [
    "# Answers\n",
    "\n",
    "\n",
    "A 1D array of numbers from 0 to 9\n",
    "```bash\n",
    "arr1 = np.arange(10)\n",
    "print(arr1)\n",
    "```\n",
    "\n",
    "A 3x3 matrix of all 5s\n",
    "```bash\n",
    "arr2 = np.full((3, 3), 5)\n",
    "print(arr2)\n",
    "```\n",
    "\n",
    "A 4x4 identity matrix\n",
    "```bash\n",
    "arr3 = np.eye(4)\n",
    "print(arr3)\n",
    "```\n",
    "\n",
    "10 evenly spaced numbers between 1 and 100\n",
    "```bash\n",
    "arr4 = np.linspace(1, 100, 10)\n",
    "print(arr4)\n",
    "```\n",
    "\n",
    "A 2x2 array with random values between 0 and 1\n",
    "```bash\n",
    "arr5 = np.random.rand(2, 2)\n",
    "print(arr5)\n",
    "```"
   ]
  },
  {
   "cell_type": "markdown",
   "id": "d1adddbe",
   "metadata": {},
   "source": [
    "# numpy attributes"
   ]
  },
  {
   "cell_type": "code",
   "execution_count": 29,
   "id": "19615ad3",
   "metadata": {},
   "outputs": [],
   "source": [
    "arr = np.array([[1, 2, 3], [4, 5, 6]])"
   ]
  },
  {
   "cell_type": "code",
   "execution_count": 30,
   "id": "e73924cf",
   "metadata": {},
   "outputs": [
    {
     "name": "stdout",
     "output_type": "stream",
     "text": [
      "[[1 2 3]\n",
      " [4 5 6]]\n"
     ]
    }
   ],
   "source": [
    "print(arr)"
   ]
  },
  {
   "cell_type": "code",
   "execution_count": 31,
   "id": "953dae6b",
   "metadata": {},
   "outputs": [
    {
     "data": {
      "text/plain": [
       "(2, 3)"
      ]
     },
     "execution_count": 31,
     "metadata": {},
     "output_type": "execute_result"
    }
   ],
   "source": [
    "arr.shape"
   ]
  },
  {
   "cell_type": "code",
   "execution_count": 32,
   "id": "45bc1981",
   "metadata": {},
   "outputs": [
    {
     "data": {
      "text/plain": [
       "2"
      ]
     },
     "execution_count": 32,
     "metadata": {},
     "output_type": "execute_result"
    }
   ],
   "source": [
    "arr.ndim"
   ]
  },
  {
   "cell_type": "code",
   "execution_count": 33,
   "id": "f82ddd74",
   "metadata": {},
   "outputs": [
    {
     "data": {
      "text/plain": [
       "dtype('int64')"
      ]
     },
     "execution_count": 33,
     "metadata": {},
     "output_type": "execute_result"
    }
   ],
   "source": [
    "arr.dtype"
   ]
  },
  {
   "cell_type": "markdown",
   "id": "217c1de1",
   "metadata": {},
   "source": [
    "# ndarray.itemsize"
   ]
  },
  {
   "cell_type": "code",
   "execution_count": 34,
   "id": "9d1d8406",
   "metadata": {},
   "outputs": [
    {
     "data": {
      "text/plain": [
       "8"
      ]
     },
     "execution_count": 34,
     "metadata": {},
     "output_type": "execute_result"
    }
   ],
   "source": [
    "arr.itemsize # size in bytes of one element"
   ]
  },
  {
   "cell_type": "code",
   "execution_count": 35,
   "id": "2c648f0c",
   "metadata": {},
   "outputs": [],
   "source": [
    "# 1 gb --> 1024 mb\n",
    "# 1 mb --> 1024 kb\n",
    "# 1 kb --> 1024 bytes\n",
    "# 1 byte --> 8 bit\n",
    "\n",
    "# Java\n",
    "# - int --> 4 bytes\n",
    "# - float --> 4 bytes\n",
    "# - char --> 1 byte"
   ]
  },
  {
   "cell_type": "code",
   "execution_count": 36,
   "id": "cfad1f48",
   "metadata": {},
   "outputs": [],
   "source": [
    "# import sys\n",
    "\n",
    "# print(\"Size of int:\", sys.getsizeof(int()))  # Integer\n",
    "# print(\"Size of float:\", sys.getsizeof(float()))  # Floating-point number\n",
    "# print(\"Size of str:\", sys.getsizeof(str()))  # String\n",
    "# print(\"Size of list:\", sys.getsizeof(list()))  # List\n",
    "# print(\"Size of tuple:\", sys.getsizeof(tuple()))  # Tuple\n",
    "# print(\"Size of dict:\", sys.getsizeof(dict()))  # Dictionary\n",
    "# print(\"Size of set:\", sys.getsizeof(set()))  # Set\n"
   ]
  },
  {
   "cell_type": "code",
   "execution_count": 37,
   "id": "b9e49fb0",
   "metadata": {},
   "outputs": [
    {
     "data": {
      "text/plain": [
       "48"
      ]
     },
     "execution_count": 37,
     "metadata": {},
     "output_type": "execute_result"
    }
   ],
   "source": [
    "arr.nbytes # total number of bytes consumed by the array"
   ]
  },
  {
   "cell_type": "code",
   "execution_count": 38,
   "id": "1f6e9537",
   "metadata": {},
   "outputs": [],
   "source": [
    "arr = np.array([[1, 2, 3], [4, 5, 6]])"
   ]
  },
  {
   "cell_type": "code",
   "execution_count": 39,
   "id": "6cc3ba66",
   "metadata": {},
   "outputs": [
    {
     "data": {
      "text/plain": [
       "array([[1, 2, 3],\n",
       "       [4, 5, 6]])"
      ]
     },
     "execution_count": 39,
     "metadata": {},
     "output_type": "execute_result"
    }
   ],
   "source": [
    "arr"
   ]
  },
  {
   "cell_type": "code",
   "execution_count": 40,
   "id": "32e7516c",
   "metadata": {},
   "outputs": [
    {
     "data": {
      "text/plain": [
       "array([[1, 4],\n",
       "       [2, 5],\n",
       "       [3, 6]])"
      ]
     },
     "execution_count": 40,
     "metadata": {},
     "output_type": "execute_result"
    }
   ],
   "source": [
    "arr.T"
   ]
  },
  {
   "cell_type": "code",
   "execution_count": 41,
   "id": "a3d860a6",
   "metadata": {},
   "outputs": [],
   "source": [
    "a = np.array([[1,2,3], [4,5,6]])"
   ]
  },
  {
   "cell_type": "code",
   "execution_count": 42,
   "id": "9d5428c3",
   "metadata": {},
   "outputs": [
    {
     "name": "stdout",
     "output_type": "stream",
     "text": [
      "(2, 3)\n",
      "(3, 2)\n"
     ]
    }
   ],
   "source": [
    "print(a.shape)\n",
    "print(a.T.shape)"
   ]
  },
  {
   "cell_type": "code",
   "execution_count": 43,
   "id": "a7f7f1ca",
   "metadata": {},
   "outputs": [
    {
     "name": "stdout",
     "output_type": "stream",
     "text": [
      "[[1 2 3]\n",
      " [4 5 6]]\n",
      "[[1 4]\n",
      " [2 5]\n",
      " [3 6]]\n"
     ]
    }
   ],
   "source": [
    "print(a)\n",
    "print(a.T)"
   ]
  },
  {
   "cell_type": "code",
   "execution_count": 44,
   "id": "d4f0f542",
   "metadata": {},
   "outputs": [
    {
     "name": "stdout",
     "output_type": "stream",
     "text": [
      "[[3 3 3 3 3]\n",
      " [3 3 3 3 3]\n",
      " [3 3 3 3 3]]\n",
      "[[3 3 3]\n",
      " [3 3 3]\n",
      " [3 3 3]\n",
      " [3 3 3]\n",
      " [3 3 3]]\n"
     ]
    }
   ],
   "source": [
    "z = np.full((3,5),3)\n",
    "print(z)\n",
    "z = z.T\n",
    "print(z)\n"
   ]
  },
  {
   "cell_type": "code",
   "execution_count": null,
   "id": "b82736b0",
   "metadata": {},
   "outputs": [],
   "source": []
  }
 ],
 "metadata": {
  "kernelspec": {
   "display_name": "Python 3",
   "language": "python",
   "name": "python3"
  },
  "language_info": {
   "codemirror_mode": {
    "name": "ipython",
    "version": 3
   },
   "file_extension": ".py",
   "mimetype": "text/x-python",
   "name": "python",
   "nbconvert_exporter": "python",
   "pygments_lexer": "ipython3",
   "version": "3.11.3"
  }
 },
 "nbformat": 4,
 "nbformat_minor": 5
}
