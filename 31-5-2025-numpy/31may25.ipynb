{
 "cells": [
  {
   "cell_type": "code",
   "execution_count": 1,
   "id": "6eb3c91c",
   "metadata": {},
   "outputs": [],
   "source": [
    "import numpy as np"
   ]
  },
  {
   "cell_type": "code",
   "execution_count": 2,
   "id": "2637ba22",
   "metadata": {},
   "outputs": [
    {
     "name": "stdout",
     "output_type": "stream",
     "text": [
      "[[1. 0. 0. 0. 0. 0.]\n",
      " [0. 1. 0. 0. 0. 0.]\n",
      " [0. 0. 1. 0. 0. 0.]\n",
      " [0. 0. 0. 1. 0. 0.]\n",
      " [0. 0. 0. 0. 1. 0.]\n",
      " [0. 0. 0. 0. 0. 1.]]\n"
     ]
    }
   ],
   "source": [
    "# Create a 6x6 identity-like matrix (ones on diagonal, zeros elsewhere)\n",
    "matrix = np.eye(6, 6)\n",
    "\n",
    "print(matrix)\n"
   ]
  },
  {
   "cell_type": "code",
   "execution_count": 3,
   "id": "980f1a7d",
   "metadata": {},
   "outputs": [
    {
     "data": {
      "text/plain": [
       "array([[0., 0., 0., 0., 1., 0.],\n",
       "       [0., 0., 0., 0., 0., 1.],\n",
       "       [0., 0., 0., 0., 0., 0.],\n",
       "       [0., 0., 0., 0., 0., 0.],\n",
       "       [0., 0., 0., 0., 0., 0.],\n",
       "       [0., 0., 0., 0., 0., 0.]])"
      ]
     },
     "execution_count": 3,
     "metadata": {},
     "output_type": "execute_result"
    }
   ],
   "source": [
    "np.eye(6,6,4)"
   ]
  },
  {
   "cell_type": "code",
   "execution_count": 4,
   "id": "0131a6a3",
   "metadata": {},
   "outputs": [],
   "source": [
    "# np.empty(shape)"
   ]
  },
  {
   "cell_type": "code",
   "execution_count": 5,
   "id": "016cc293",
   "metadata": {},
   "outputs": [
    {
     "data": {
      "text/plain": [
       "array([[0, 0, 0, 0, 0],\n",
       "       [0, 0, 0, 0, 0],\n",
       "       [0, 0, 0, 0, 0],\n",
       "       [0, 0, 0, 0, 0],\n",
       "       [0, 0, 0, 0, 0]])"
      ]
     },
     "execution_count": 5,
     "metadata": {},
     "output_type": "execute_result"
    }
   ],
   "source": [
    "np.full((5,5),0)"
   ]
  },
  {
   "cell_type": "code",
   "execution_count": 6,
   "id": "b4f0ebc4",
   "metadata": {},
   "outputs": [
    {
     "name": "stdout",
     "output_type": "stream",
     "text": [
      "[[0.30196479 0.23865311 0.57579444]\n",
      " [0.55370679 0.58075207 0.4556726 ]]\n"
     ]
    }
   ],
   "source": [
    "# Generate a 2x3 matrix with random floats between 0 and 1\n",
    "random_matrix = np.random.rand(2, 3)\n",
    "\n",
    "print(random_matrix)"
   ]
  },
  {
   "cell_type": "code",
   "execution_count": 7,
   "id": "c7802bb7",
   "metadata": {},
   "outputs": [
    {
     "name": "stdout",
     "output_type": "stream",
     "text": [
      "[6.65211675715266, 4.6683653725827226, 3.8901668042955064, 4.547251426119427, 8.214285208179668, 5.553417773270909, 7.500289760758784, 1.5772884973695456, 3.2064387363292735, 1.3617816916890901]\n"
     ]
    }
   ],
   "source": [
    "# Generate 10 random float numbers between 0 and 10\n",
    "a = np.random.rand(10) * 10\n",
    "\n",
    "# Convert NumPy array to Python list\n",
    "a = a.tolist()\n",
    "\n",
    "# Display the list\n",
    "print(a)"
   ]
  },
  {
   "cell_type": "code",
   "execution_count": 8,
   "id": "876ef19a",
   "metadata": {},
   "outputs": [
    {
     "name": "stdout",
     "output_type": "stream",
     "text": [
      "[12.960744974486397, 5.7632153825216275, 5.495095766525042, 12.223406938217385, 14.9427321091414, 3.8955755091018984, 5.216237611009862, 11.002418244887718, 4.195821750933664, 17.71313845768177]\n"
     ]
    }
   ],
   "source": [
    "# Generate 10 random float numbers between 0 and 10\n",
    "a = np.random.rand(10) * 20\n",
    "\n",
    "# Convert NumPy array to Python list\n",
    "a = a.tolist()\n",
    "\n",
    "# Display the list\n",
    "print(a)"
   ]
  },
  {
   "cell_type": "code",
   "execution_count": 9,
   "id": "3f44b523",
   "metadata": {},
   "outputs": [
    {
     "name": "stdout",
     "output_type": "stream",
     "text": [
      "[9, 4, 6, 2, 6, 8, 8, 9, 7, 3]\n"
     ]
    }
   ],
   "source": [
    "# Step 1: Generate 10 random floats between 0 and 10\n",
    "a = np.random.rand(10) * 10\n",
    "\n",
    "# Step 2: Convert to list\n",
    "a = a.tolist()\n",
    "\n",
    "# Step 3: Convert float values to integers (truncating)\n",
    "a = [int(i) for i in a]\n",
    "\n",
    "print(a)"
   ]
  },
  {
   "cell_type": "code",
   "execution_count": 10,
   "id": "272b0383",
   "metadata": {},
   "outputs": [
    {
     "name": "stdout",
     "output_type": "stream",
     "text": [
      "Dice Rolls: [4, 5, 4, 5, 6, 5, 5, 1, 4, 1]\n"
     ]
    }
   ],
   "source": [
    "dice_rolls = np.random.randint(1, 7, size=10)\n",
    "print(\"Dice Rolls:\", dice_rolls.tolist())\n"
   ]
  },
  {
   "cell_type": "code",
   "execution_count": 11,
   "id": "3cdd5b84",
   "metadata": {},
   "outputs": [
    {
     "name": "stdout",
     "output_type": "stream",
     "text": [
      "Rounded values: [np.float64(59.22), np.float64(84.59), np.float64(93.55), np.float64(41.38), np.float64(46.66)]\n"
     ]
    }
   ],
   "source": [
    "a = np.random.rand(5) * 100\n",
    "a = [round(i, 2) for i in a]\n",
    "print(\"Rounded values:\", a)\n"
   ]
  },
  {
   "cell_type": "code",
   "execution_count": 12,
   "id": "1631790c",
   "metadata": {},
   "outputs": [
    {
     "name": "stdout",
     "output_type": "stream",
     "text": [
      "3x3 Random Matrix:\n",
      " [[6 8 4]\n",
      " [1 6 5]\n",
      " [9 2 5]]\n"
     ]
    }
   ],
   "source": [
    "matrix = np.random.randint(1, 10, size=(3, 3))\n",
    "print(\"3x3 Random Matrix:\\n\", matrix)\n"
   ]
  },
  {
   "cell_type": "code",
   "execution_count": 13,
   "id": "58c1be8e",
   "metadata": {},
   "outputs": [
    {
     "name": "stdout",
     "output_type": "stream",
     "text": [
      "Original: [4, 5, 4, 4, 4, 7, 0, 2, 9, 1, 3, 3, 7, 7, 0]\n",
      "Evens only: [4, 4, 4, 4, 0, 2, 0]\n"
     ]
    }
   ],
   "source": [
    "a = [int(i) for i in np.random.rand(15)*10]\n",
    "evens = [i for i in a if i % 2 == 0]\n",
    "print(\"Original:\", a)\n",
    "print(\"Evens only:\", evens)\n"
   ]
  },
  {
   "cell_type": "code",
   "execution_count": 14,
   "id": "8c142220",
   "metadata": {},
   "outputs": [
    {
     "name": "stdout",
     "output_type": "stream",
     "text": [
      "Array: [17 72 94 80 48 33 21 33]\n",
      "Min: 17\n",
      "Max: 94\n",
      "Mean: 49.75\n"
     ]
    }
   ],
   "source": [
    "arr = np.random.randint(10, 100, size=8)\n",
    "print(\"Array:\", arr)\n",
    "print(\"Min:\", np.min(arr))\n",
    "print(\"Max:\", np.max(arr))\n",
    "print(\"Mean:\", np.mean(arr))\n"
   ]
  },
  {
   "cell_type": "code",
   "execution_count": 15,
   "id": "054baf31",
   "metadata": {},
   "outputs": [],
   "source": [
    "# Use np.random to simulate fake data for testing\n",
    "ages = np.random.randint(18, 60, 1000)     # simulate age data\n",
    "salaries = np.random.normal(50000, 10000, 1000)  # simulate salary with normal distribution\n"
   ]
  },
  {
   "cell_type": "code",
   "execution_count": 16,
   "id": "f7d35d3e",
   "metadata": {},
   "outputs": [],
   "source": [
    "# Rounding and converting data\n",
    "values = np.random.rand(10) * 100\n",
    "cleaned = [int(v) for v in values]  # remove float noise\n"
   ]
  },
  {
   "cell_type": "code",
   "execution_count": 17,
   "id": "678b15c9",
   "metadata": {},
   "outputs": [],
   "source": [
    "X = np.random.rand(100, 5)   # 100 rows, 5 features\n",
    "y = np.random.randint(0, 2, 100)  # binary labels for classification\n"
   ]
  },
  {
   "cell_type": "code",
   "execution_count": 18,
   "id": "8292e0e2",
   "metadata": {},
   "outputs": [
    {
     "name": "stdout",
     "output_type": "stream",
     "text": [
      "Mean: 49.28\n",
      "Std Dev: 28.165965277263272\n",
      "Median: 52.5\n"
     ]
    }
   ],
   "source": [
    "data = np.random.randint(1, 100, 50)\n",
    "print(\"Mean:\", np.mean(data))\n",
    "print(\"Std Dev:\", np.std(data))\n",
    "print(\"Median:\", np.median(data))\n"
   ]
  },
  {
   "cell_type": "code",
   "execution_count": 19,
   "id": "7f40ea7d",
   "metadata": {},
   "outputs": [],
   "source": [
    "A = np.random.rand(3, 3)\n",
    "B = np.random.rand(3, 3)\n",
    "result = np.dot(A, B)  # matrix multiplication\n"
   ]
  },
  {
   "cell_type": "code",
   "execution_count": 20,
   "id": "6a0de169",
   "metadata": {},
   "outputs": [
    {
     "data": {
      "text/plain": [
       "array([1, 8, 4, 4, 3, 1, 8, 9, 4, 5], dtype=int32)"
      ]
     },
     "execution_count": 20,
     "metadata": {},
     "output_type": "execute_result"
    }
   ],
   "source": [
    "np.random.randint(1,11,10)"
   ]
  },
  {
   "cell_type": "code",
   "execution_count": 21,
   "id": "41607707",
   "metadata": {},
   "outputs": [
    {
     "name": "stdout",
     "output_type": "stream",
     "text": [
      "Assignment 1: [0 1 2 3 4 5 6 7 8 9]\n",
      "Assignment 2:\n",
      " [[5 5 5]\n",
      " [5 5 5]\n",
      " [5 5 5]]\n",
      "Assignment 3:\n",
      " [[1. 0. 0. 0.]\n",
      " [0. 1. 0. 0.]\n",
      " [0. 0. 1. 0.]\n",
      " [0. 0. 0. 1.]]\n",
      "Assignment 4: [  1.  12.  23.  34.  45.  56.  67.  78.  89. 100.]\n"
     ]
    }
   ],
   "source": [
    "import numpy as np\n",
    "\n",
    "# Assignment 1: A 1D array of numbers from 0 to 9\n",
    "arr1 = np.arange(10)\n",
    "print(\"Assignment 1:\", arr1)\n",
    "\n",
    "# Assignment 2: A 3x3 matrix of all 5s\n",
    "arr2 = np.full((3, 3), 5)\n",
    "print(\"Assignment 2:\\n\", arr2)\n",
    "\n",
    "# Assignment 3: A 4x4 identity matrix\n",
    "arr3 = np.eye(4)\n",
    "print(\"Assignment 3:\\n\", arr3)\n",
    "\n",
    "# Assignment 4: 10 evenly spaced numbers between 1 and 100\n",
    "arr4 = np.linspace(1, 100, 10)\n",
    "print(\"Assignment 4:\", arr4)\n"
   ]
  },
  {
   "cell_type": "code",
   "execution_count": 22,
   "id": "2ba29e83",
   "metadata": {},
   "outputs": [
    {
     "name": "stdout",
     "output_type": "stream",
     "text": [
      "1D array from 0 to 9:\n",
      " [0 1 2 3 4 5 6 7 8 9]\n",
      "\n",
      "3x3 matrix of 5s:\n",
      " [[5 5 5]\n",
      " [5 5 5]\n",
      " [5 5 5]]\n",
      "\n",
      "4x4 identity matrix:\n",
      " [[1. 0. 0. 0.]\n",
      " [0. 1. 0. 0.]\n",
      " [0. 0. 1. 0.]\n",
      " [0. 0. 0. 1.]]\n",
      "\n",
      "10 evenly spaced numbers between 1 and 100:\n",
      " [  1.  12.  23.  34.  45.  56.  67.  78.  89. 100.]\n",
      "\n",
      "2x2 array with random values:\n",
      " [[0.06353991 0.05128812]\n",
      " [0.83622    0.03107938]]\n"
     ]
    }
   ],
   "source": [
    "import numpy as np\n",
    "\n",
    "# 1. A 1D array of numbers from 0 to 9\n",
    "arr1 = np.arange(10)\n",
    "print(\"1D array from 0 to 9:\\n\", arr1)\n",
    "\n",
    "# 2. A 3x3 matrix of all 5s\n",
    "arr2 = np.full((3, 3), 5)\n",
    "print(\"\\n3x3 matrix of 5s:\\n\", arr2)\n",
    "\n",
    "# 3. A 4x4 identity matrix\n",
    "arr3 = np.eye(4)\n",
    "print(\"\\n4x4 identity matrix:\\n\", arr3)\n",
    "\n",
    "# 4. 10 evenly spaced numbers between 1 and 100\n",
    "arr4 = np.linspace(1, 100, 10)\n",
    "print(\"\\n10 evenly spaced numbers between 1 and 100:\\n\", arr4)\n",
    "\n",
    "# 5. A 2x2 array with random values between 0 and 1\n",
    "arr5 = np.random.rand(2, 2)\n",
    "print(\"\\n2x2 array with random values:\\n\", arr5)\n"
   ]
  },
  {
   "cell_type": "code",
   "execution_count": 23,
   "id": "7d3dbb4f",
   "metadata": {},
   "outputs": [
    {
     "name": "stdout",
     "output_type": "stream",
     "text": [
      "Original:\n",
      " [[1 2 3]\n",
      " [4 5 6]]\n",
      "Transposed:\n",
      " [[1 4]\n",
      " [2 5]\n",
      " [3 6]]\n"
     ]
    }
   ],
   "source": [
    "import numpy as np\n",
    "\n",
    "# Original matrix (2x3)\n",
    "matrix = np.array([[1, 2, 3],\n",
    "                   [4, 5, 6]])\n",
    "\n",
    "# Transpose (3x2)\n",
    "transposed = matrix.T\n",
    "\n",
    "print(\"Original:\\n\", matrix)\n",
    "print(\"Transposed:\\n\", transposed)\n"
   ]
  },
  {
   "cell_type": "code",
   "execution_count": 24,
   "id": "eb53db8a",
   "metadata": {},
   "outputs": [
    {
     "name": "stdout",
     "output_type": "stream",
     "text": [
      "A:\n",
      " [[1 2 3]\n",
      " [4 5 6]]\n",
      "B:\n",
      " [[ 7  8  9]\n",
      " [10 11 12]]\n",
      "B Transposed:\n",
      " [[ 7 10]\n",
      " [ 8 11]\n",
      " [ 9 12]]\n",
      "Result of A x B.T:\n",
      " [[ 50  68]\n",
      " [122 167]]\n"
     ]
    }
   ],
   "source": [
    "import numpy as np\n",
    "\n",
    "# Two matrices A (2x3) and B (2x3)\n",
    "A = np.array([[1, 2, 3],\n",
    "              [4, 5, 6]])\n",
    "\n",
    "B = np.array([[7, 8, 9],\n",
    "              [10, 11, 12]])\n",
    "\n",
    "# Vectorized multiplication using transpose\n",
    "result = np.dot(A, B.T)\n",
    "\n",
    "print(\"A:\\n\", A)\n",
    "print(\"B:\\n\", B)\n",
    "print(\"B Transposed:\\n\", B.T)\n",
    "print(\"Result of A x B.T:\\n\", result)\n"
   ]
  },
  {
   "cell_type": "code",
   "execution_count": 26,
   "id": "d6988fd8",
   "metadata": {},
   "outputs": [],
   "source": [
    "a=np.array([[1,2,3],[4,5,6]])"
   ]
  },
  {
   "cell_type": "code",
   "execution_count": 27,
   "id": "1a89f67c",
   "metadata": {},
   "outputs": [
    {
     "name": "stdout",
     "output_type": "stream",
     "text": [
      "(2, 3)\n"
     ]
    }
   ],
   "source": [
    "print(a.shape)"
   ]
  },
  {
   "cell_type": "code",
   "execution_count": 28,
   "id": "eef58cf6",
   "metadata": {},
   "outputs": [
    {
     "name": "stdout",
     "output_type": "stream",
     "text": [
      "(3, 2)\n"
     ]
    }
   ],
   "source": [
    "print(a.T.shape)"
   ]
  },
  {
   "cell_type": "code",
   "execution_count": 29,
   "id": "50c10f59",
   "metadata": {},
   "outputs": [
    {
     "name": "stdout",
     "output_type": "stream",
     "text": [
      "[[1 4]\n",
      " [2 5]\n",
      " [3 6]]\n"
     ]
    }
   ],
   "source": [
    "print(a.T)"
   ]
  },
  {
   "cell_type": "code",
   "execution_count": 30,
   "id": "e05c4d6a",
   "metadata": {},
   "outputs": [
    {
     "name": "stdout",
     "output_type": "stream",
     "text": [
      "Element at [1,2]: 70\n",
      "Row slice: [50 60 70 80]\n",
      "Column slice: [ 30  70 110]\n",
      "Sub-array:\n",
      " [[20 30]\n",
      " [60 70]]\n"
     ]
    }
   ],
   "source": [
    "import numpy as np\n",
    "\n",
    "# 2D array (3x4)\n",
    "arr = np.array([[10, 20, 30, 40],\n",
    "                [50, 60, 70, 80],\n",
    "                [90, 100, 110, 120]])\n",
    "\n",
    "# Indexing\n",
    "element = arr[1, 2]        # Element at row 1, column 2 → 70\n",
    "\n",
    "# Slicing\n",
    "row_slice = arr[1, :]      # Entire 2nd row → [50 60 70 80]\n",
    "col_slice = arr[:, 2]      # Entire 3rd column → [30 70 110]\n",
    "sub_array = arr[0:2, 1:3]  # Rows 0–1, Columns 1–2 → [[20 30], [60 70]]\n",
    "\n",
    "print(\"Element at [1,2]:\", element)\n",
    "print(\"Row slice:\", row_slice)\n",
    "print(\"Column slice:\", col_slice)\n",
    "print(\"Sub-array:\\n\", sub_array)\n"
   ]
  },
  {
   "cell_type": "code",
   "execution_count": 31,
   "id": "ef984454",
   "metadata": {},
   "outputs": [
    {
     "name": "stdout",
     "output_type": "stream",
     "text": [
      "10\n",
      "60\n"
     ]
    }
   ],
   "source": [
    "arr=np.array([10,20,30,40,50,60])\n",
    "print(arr[0])\n",
    "print(arr[-1])"
   ]
  },
  {
   "cell_type": "code",
   "execution_count": 33,
   "id": "5c159d0b",
   "metadata": {},
   "outputs": [
    {
     "name": "stdout",
     "output_type": "stream",
     "text": [
      "[20 30 40 50 60]\n",
      "[20 30 40]\n",
      "60\n",
      "[10 20 30]\n"
     ]
    }
   ],
   "source": [
    "print(arr[1:])\n",
    "print(arr[1:4])\n",
    "print(arr[-1])\n",
    "print(arr[0:3])"
   ]
  },
  {
   "cell_type": "code",
   "execution_count": 35,
   "id": "2c25ec8b",
   "metadata": {},
   "outputs": [
    {
     "name": "stdout",
     "output_type": "stream",
     "text": [
      "[10 30 50]\n"
     ]
    }
   ],
   "source": [
    "print(arr[::2]) #step size of 2"
   ]
  },
  {
   "cell_type": "code",
   "execution_count": 36,
   "id": "60d5d775",
   "metadata": {},
   "outputs": [],
   "source": [
    "mat=np.array([\n",
    "    [1,2,3],\n",
    "    [4,5,6],\n",
    "    [7,8,9]\n",
    "])"
   ]
  },
  {
   "cell_type": "code",
   "execution_count": 37,
   "id": "7d219c59",
   "metadata": {},
   "outputs": [
    {
     "name": "stdout",
     "output_type": "stream",
     "text": [
      "2\n"
     ]
    }
   ],
   "source": [
    "print(mat[0,1])"
   ]
  },
  {
   "cell_type": "code",
   "execution_count": 38,
   "id": "576bdae9",
   "metadata": {},
   "outputs": [
    {
     "name": "stdout",
     "output_type": "stream",
     "text": [
      "[4 5 6]\n"
     ]
    }
   ],
   "source": [
    "print(mat[1])"
   ]
  },
  {
   "cell_type": "code",
   "execution_count": 40,
   "id": "2b336cf8",
   "metadata": {},
   "outputs": [
    {
     "name": "stdout",
     "output_type": "stream",
     "text": [
      "[3 6 9]\n",
      "[3 6 9]\n"
     ]
    }
   ],
   "source": [
    "print(mat[:,2])\n",
    "print(mat[:,-1])"
   ]
  },
  {
   "cell_type": "code",
   "execution_count": 45,
   "id": "195018f2",
   "metadata": {},
   "outputs": [
    {
     "name": "stdout",
     "output_type": "stream",
     "text": [
      "[[9 8 7]\n",
      " [6 5 4]\n",
      " [3 2 1]]\n"
     ]
    }
   ],
   "source": [
    "print(mat[::-1,::-1]) #row and column reverse"
   ]
  },
  {
   "cell_type": "code",
   "execution_count": 49,
   "id": "39bf507e",
   "metadata": {},
   "outputs": [
    {
     "name": "stdout",
     "output_type": "stream",
     "text": [
      "[40 20 30 40 50 60]\n",
      "[40 20 30 40 50 60]\n"
     ]
    }
   ],
   "source": [
    "print(arr)\n",
    "arr[0]=40\n",
    "print(arr)"
   ]
  },
  {
   "cell_type": "code",
   "execution_count": 51,
   "id": "50c634b1",
   "metadata": {},
   "outputs": [
    {
     "name": "stdout",
     "output_type": "stream",
     "text": [
      "(array([2, 3, 4, 5]),)\n"
     ]
    }
   ],
   "source": [
    "arr=np.array([10,20,30,40,50,60]) #where\n",
    "idx=np.where(arr>20)\n",
    "print(idx)"
   ]
  },
  {
   "cell_type": "code",
   "execution_count": 56,
   "id": "5ac931b6",
   "metadata": {},
   "outputs": [
    {
     "name": "stdout",
     "output_type": "stream",
     "text": [
      "Original: [1 2 3 4 5 6]\n",
      "Reshaped (2x3):\n",
      " [[1 2 3]\n",
      " [4 5 6]]\n",
      "Resized (3x2):\n",
      " [[1 2]\n",
      " [3 4]\n",
      " [5 6]]\n"
     ]
    }
   ],
   "source": [
    "import numpy as np\n",
    "\n",
    "arr = np.array([1, 2, 3, 4, 5, 6])\n",
    "\n",
    "reshaped = arr.reshape((2, 3))  # Shape becomes (2x3)\n",
    "\n",
    "print(\"Original:\", arr)\n",
    "print(\"Reshaped (2x3):\\n\", reshaped)\n",
    "\n",
    "arr.resize((3, 2))  # Now shape is (3x2)\n",
    "\n",
    "print(\"Resized (3x2):\\n\", arr)"
   ]
  },
  {
   "cell_type": "code",
   "execution_count": 58,
   "id": "bf91b846",
   "metadata": {},
   "outputs": [
    {
     "name": "stdout",
     "output_type": "stream",
     "text": [
      "[[1 2]\n",
      " [3 4]\n",
      " [5 6]]\n"
     ]
    }
   ],
   "source": [
    "arr=np.array([1,2,3,4,5,6])\n",
    "reshaped=arr.reshape(3,-1)\n",
    "print(reshaped)"
   ]
  },
  {
   "cell_type": "code",
   "execution_count": null,
   "id": "26b7ccd2",
   "metadata": {},
   "outputs": [],
   "source": []
  },
  {
   "cell_type": "code",
   "execution_count": null,
   "id": "bfe1ee2c",
   "metadata": {},
   "outputs": [],
   "source": []
  },
  {
   "cell_type": "code",
   "execution_count": null,
   "id": "357b8427",
   "metadata": {},
   "outputs": [],
   "source": []
  },
  {
   "cell_type": "code",
   "execution_count": null,
   "id": "24202dba",
   "metadata": {},
   "outputs": [],
   "source": []
  },
  {
   "cell_type": "code",
   "execution_count": null,
   "id": "2c5122bd",
   "metadata": {},
   "outputs": [],
   "source": []
  },
  {
   "cell_type": "code",
   "execution_count": null,
   "id": "cccd55ca",
   "metadata": {},
   "outputs": [],
   "source": []
  },
  {
   "cell_type": "code",
   "execution_count": null,
   "id": "28cc068e",
   "metadata": {},
   "outputs": [],
   "source": []
  },
  {
   "cell_type": "code",
   "execution_count": null,
   "id": "55d8f983",
   "metadata": {},
   "outputs": [],
   "source": []
  },
  {
   "cell_type": "code",
   "execution_count": null,
   "id": "0bfb3a7b",
   "metadata": {},
   "outputs": [],
   "source": []
  },
  {
   "cell_type": "code",
   "execution_count": null,
   "id": "e598dab3",
   "metadata": {},
   "outputs": [],
   "source": []
  },
  {
   "cell_type": "code",
   "execution_count": null,
   "id": "4e2f4436",
   "metadata": {},
   "outputs": [],
   "source": []
  },
  {
   "cell_type": "code",
   "execution_count": null,
   "id": "b0d428e8",
   "metadata": {},
   "outputs": [],
   "source": []
  },
  {
   "cell_type": "code",
   "execution_count": null,
   "id": "d540f4ee",
   "metadata": {},
   "outputs": [],
   "source": []
  },
  {
   "cell_type": "code",
   "execution_count": null,
   "id": "f2388970",
   "metadata": {},
   "outputs": [],
   "source": []
  },
  {
   "cell_type": "code",
   "execution_count": null,
   "id": "8903a8d4",
   "metadata": {},
   "outputs": [],
   "source": []
  },
  {
   "cell_type": "code",
   "execution_count": null,
   "id": "efe4e56e",
   "metadata": {},
   "outputs": [],
   "source": []
  }
 ],
 "metadata": {
  "kernelspec": {
   "display_name": "Python 3",
   "language": "python",
   "name": "python3"
  },
  "language_info": {
   "codemirror_mode": {
    "name": "ipython",
    "version": 3
   },
   "file_extension": ".py",
   "mimetype": "text/x-python",
   "name": "python",
   "nbconvert_exporter": "python",
   "pygments_lexer": "ipython3",
   "version": "3.11.3"
  }
 },
 "nbformat": 4,
 "nbformat_minor": 5
}
